{
 "cells": [
  {
   "cell_type": "code",
   "execution_count": null,
   "metadata": {},
   "outputs": [],
   "source": [
    "import numpy as np\n",
    "import matplotlib.pyplot as plt\n",
    "\n",
    "%matplotlib inline"
   ]
  },
  {
   "cell_type": "markdown",
   "metadata": {},
   "source": [
    "### Exercise: basics"
   ]
  },
  {
   "cell_type": "markdown",
   "metadata": {},
   "source": [
    "Use interactive auto-completion in notebook to get help.\n",
    "\n",
    "For example, type ``ax.get_`` + ``<tab>`` to see what information you can get from the axes.\n",
    "\n",
    "Use ``?`` to display help on a function or method, e.g.: ``plt.xlim?``\n",
    "\n",
    "The border around the axes is called \"spines\". Look at ``ax.spines`` and see what you can do with that...\n",
    "\n",
    "To get grid lines, you can use ``ax.xaxis.grid()`` and ``ax.yaxis.grid()``.\n",
    "\n",
    "To set font size, you can use ``plt.rc('font', size=14)``.\n",
    "\n",
    "Your output might look something like:\n",
    "\n",
    "<img src=\"01-figure-ex01.png\" />\n"
   ]
  },
  {
   "cell_type": "code",
   "execution_count": null,
   "metadata": {},
   "outputs": [],
   "source": [
    "#\n",
    "# Data\n",
    "#\n",
    "\n",
    "ldc = [1, 0.8, 0.75, 0.7, 0.65, 0.64, 0.63, 0.62, 0.61, 0.6, 0.5, 0.4, 0.3, 0.2, 0.1]\n",
    "coal = [0.43] * len(ldc)\n",
    "x_values = np.linspace(0, 8760, num=len(ldc))\n"
   ]
  },
  {
   "cell_type": "code",
   "execution_count": null,
   "metadata": {},
   "outputs": [],
   "source": []
  }
 ],
 "metadata": {
  "kernelspec": {
   "display_name": "Python 3",
   "language": "python",
   "name": "python3"
  },
  "language_info": {
   "codemirror_mode": {
    "name": "ipython",
    "version": 3
   },
   "file_extension": ".py",
   "mimetype": "text/x-python",
   "name": "python",
   "nbconvert_exporter": "python",
   "pygments_lexer": "ipython3",
   "version": "3.6.10"
  },
  "toc": {
   "colors": {
    "hover_highlight": "#DAA520",
    "running_highlight": "#FF0000",
    "selected_highlight": "#FFD700"
   },
   "moveMenuLeft": true,
   "nav_menu": {
    "height": "12px",
    "width": "252px"
   },
   "navigate_menu": true,
   "number_sections": true,
   "sideBar": true,
   "threshold": 4,
   "toc_cell": true,
   "toc_section_display": "block",
   "toc_window_display": false,
   "widenNotebook": false
  }
 },
 "nbformat": 4,
 "nbformat_minor": 2
}
