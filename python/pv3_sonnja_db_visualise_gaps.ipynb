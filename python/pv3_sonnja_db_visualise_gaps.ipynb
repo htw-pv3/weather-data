{
 "cells": [
  {
   "cell_type": "markdown",
   "metadata": {},
   "source": [
    "# PV3 Visualisations of data gaps\n",
    "\n",
    "<img src=\"http://reiner-lemoine-institut.de//wp-content/uploads/2015/09/rlilogo.png\" width=\"100\" style=\"float: right\">\n",
    "\n",
    "__copyright__ \t= \"© Reiner Lemoine Institut\" <br>\n",
    "__license__ \t= \"GNU Affero General Public License Version 3 (AGPL-3.0)\" <br>\n",
    "__url__ \t\t= \"https://www.gnu.org/licenses/agpl-3.0.en.html\" <br>\n",
    "__author__ \t\t= \"Ludwig Hülk\" <br>"
   ]
  },
  {
   "cell_type": "markdown",
   "metadata": {},
   "source": [
    "# Imports"
   ]
  },
  {
   "cell_type": "code",
   "execution_count": 1,
   "metadata": {},
   "outputs": [
    {
     "data": {
      "text/html": [
       "        <script type=\"text/javascript\">\n",
       "        window.PlotlyConfig = {MathJaxConfig: 'local'};\n",
       "        if (window.MathJax) {MathJax.Hub.Config({SVG: {font: \"STIX-Web\"}});}\n",
       "        if (typeof require !== 'undefined') {\n",
       "        require.undef(\"plotly\");\n",
       "        requirejs.config({\n",
       "            paths: {\n",
       "                'plotly': ['https://cdn.plot.ly/plotly-latest.min']\n",
       "            }\n",
       "        });\n",
       "        require(['plotly'], function(Plotly) {\n",
       "            window._Plotly = Plotly;\n",
       "        });\n",
       "        }\n",
       "        </script>\n",
       "        "
      ]
     },
     "metadata": {},
     "output_type": "display_data"
    }
   ],
   "source": [
    "import sys\n",
    "import os\n",
    "import getpass\n",
    "import pandas as pd\n",
    "import numpy as np\n",
    "import json\n",
    "from datetime import datetime\n",
    "from sqlalchemy import *\n",
    "# plot\n",
    "import matplotlib.pyplot as plt\n",
    "import matplotlib.ticker as mticker\n",
    "import plotly.graph_objs as go\n",
    "import plotly.offline as pltly\n",
    "import colorlover as cl\n",
    "import seaborn as sns\n",
    "# notebook\n",
    "from IPython.display import Image\n",
    "from IPython.core.display import HTML \n",
    "\n",
    "pltly.init_notebook_mode(connected=True)\n",
    "%matplotlib inline\n",
    "\n",
    "version = 'v1 (jupyter)'\n",
    "project = 'pv3'"
   ]
  },
  {
   "cell_type": "markdown",
   "metadata": {},
   "source": [
    "# Database Connection"
   ]
  },
  {
   "cell_type": "code",
   "execution_count": null,
   "metadata": {
    "scrolled": true
   },
   "outputs": [
    {
     "name": "stderr",
     "output_type": "stream",
     "text": [
      "D:\\Anaconda3\\envs\\d_py37_vis\\lib\\site-packages\\ipykernel_launcher.py:12: UserWarning:\n",
      "\n",
      "The `stream` parameter of `getpass.getpass` will have no effect when using ipykernel\n",
      "\n"
     ]
    },
    {
     "name": "stdout",
     "output_type": "stream",
     "text": [
      "Please provide connection parameters to database:\n",
      "Hit [Enter] to take defaults\n"
     ]
    }
   ],
   "source": [
    "def postgres_session():\n",
    "    \"\"\"SQLAlchemy session object with valid connection to reeem database\"\"\"\n",
    "    \n",
    "    print('Please provide connection parameters to database:\\n' +\n",
    "              'Hit [Enter] to take defaults')\n",
    "    host = 'localhost' # input('host (default 130.226.55.43): ')\n",
    "    port = '5434' # input('port (default 5432): ')\n",
    "    database = 'sonnja_db' # input(\"database name (default 'reeem'): \")\n",
    "    user = 'sonnja' # input('user (default postgres): ')\n",
    "    # password = input('password: ')\n",
    "    password = getpass.getpass(prompt='password: ',\n",
    "                                   stream=sys.stderr)\n",
    "    con = create_engine(\n",
    "            'postgresql://' + '%s:%s@%s:%s/%s' % (user,\n",
    "                                                  password,\n",
    "                                                  host,\n",
    "                                                  port,\n",
    "                                                  database)).connect()\n",
    "    print('Password correct! Database connection established.')\n",
    "    return con\n",
    "\n",
    "# start session\n",
    "con = postgres_session()"
   ]
  },
  {
   "cell_type": "markdown",
   "metadata": {},
   "source": [
    "# Select related gaps\n",
    "Requires script: htw_pv3_postgresql_07_data_analysis.sql"
   ]
  },
  {
   "cell_type": "code",
   "execution_count": null,
   "metadata": {},
   "outputs": [],
   "source": [
    "# Select related gaps table\n",
    "sql = text(\"\"\"\n",
    "    SELECT  *\n",
    "    FROM    pv3.pv3_related_gaps\n",
    "    \"\"\")\n",
    "df_related_gaps = pd.read_sql_query(sql, con)\n",
    "df_related_gaps"
   ]
  },
  {
   "cell_type": "code",
   "execution_count": null,
   "metadata": {},
   "outputs": [],
   "source": [
    "# Get all days with gaps\n",
    "df_related_gaps_days = df_related_gaps['date'].drop_duplicates().sort_values()\n",
    "df_related_gaps_days"
   ]
  },
  {
   "cell_type": "code",
   "execution_count": null,
   "metadata": {},
   "outputs": [],
   "source": [
    "# Select related gaps table\n",
    "sql = text(\"\"\"\n",
    "    SELECT  *\n",
    "    FROM    pv3.pv3_data_analysis_days_mview\n",
    "    \"\"\")\n",
    "df_related_gaps_days_mv = pd.read_sql_query(sql, con)\n",
    "df_related_gaps_days_mv"
   ]
  },
  {
   "cell_type": "markdown",
   "metadata": {},
   "source": [
    "# Select measurement data\n",
    "\n",
    "Requires script: htw_pv3_postgresql_06_data_join.sql"
   ]
  },
  {
   "cell_type": "code",
   "execution_count": null,
   "metadata": {},
   "outputs": [],
   "source": [
    "# Select metadata\n",
    "sql = text(\"\"\"SELECT obj_description('pv3.pv3_time_sun_weather_allwr_2015_mview'::regclass);\"\"\")\n",
    "meta_str = pd.read_sql_query(sql, con).loc[0, 'obj_description']\n",
    "\n",
    "# Select data\n",
    "sql = text(\"\"\"\n",
    "    SELECT  *   -- column\n",
    "    FROM    pv3.pv3_time_sun_weather_allwr_2015_mview  -- table\n",
    "    \"\"\")\n",
    "df = pd.read_sql_query(sql, con)\n",
    "df = df.set_index('timestamp')\n",
    "df.head()"
   ]
  },
  {
   "cell_type": "markdown",
   "metadata": {},
   "source": [
    "# Metadata\n",
    "\n",
    "The important information from the above select (**df**) is collected in a Dictionary (**info_dict**)."
   ]
  },
  {
   "cell_type": "code",
   "execution_count": null,
   "metadata": {},
   "outputs": [],
   "source": [
    "# Facts dict\n",
    "info_dict = {}\n",
    "info_dict['Day'] = ['2015-04-25']\n",
    "info_dict['Filename'] = ['{}_pv3_sonnja_plot_day_with_gap'.format(pd.to_datetime('today').strftime(\"%Y-%m-%d\"))]\n",
    "info_dict['Value'] = ['Leistung (P_AC)']\n",
    "info_dict['Unit'] = ['W']\n",
    "info_dict['Y-Axis'] = ['{} in {}'.format(*info_dict['Value'], *info_dict['Unit'])]\n",
    "info_dict['X-Axis'] = ['Stunde im Jahr']\n",
    "info_dict['Title'] = ['Tag mit Messlücke ({})'.format(*info_dict['Day'])]\n",
    "info_dict['Metadata'] = [meta_str]\n",
    "\n",
    "# Print facts\n",
    "for x in info_dict:\n",
    "    print(x,':',info_dict[x])"
   ]
  },
  {
   "cell_type": "code",
   "execution_count": null,
   "metadata": {},
   "outputs": [],
   "source": [
    "# Filter day\n",
    "day = datetime.fromisoformat('{}'.format(*info_dict['Day'])).date()\n",
    "df_day = df[(df['date'] == day)]\n",
    "df_day.head()"
   ]
  },
  {
   "cell_type": "code",
   "execution_count": null,
   "metadata": {},
   "outputs": [],
   "source": [
    "df_plot = df_day[['wr1_p_ac']]\n",
    "\n",
    "sns.set_palette(\"husl\")\n",
    "mfig = plt.figure(figsize=(12, 5))\n",
    "ax = plt.subplot()\n",
    "plt.title(*info_dict['Title'], fontsize=16)         # Title from info\n",
    "plt.ylabel(*info_dict['Y-Axis'])                    # Label from info\n",
    "df_plot.plot(ax=ax, lw=0.5, markeredgewidth=3)\n",
    "ax.set_ylim(ymin=0)"
   ]
  },
  {
   "cell_type": "markdown",
   "metadata": {},
   "source": [
    "## Interactive Plot with Metadata"
   ]
  },
  {
   "cell_type": "code",
   "execution_count": null,
   "metadata": {},
   "outputs": [],
   "source": [
    "# Interactive plot\n",
    "data = [\n",
    "    go.Scatter(x=df_day.index.tolist(), \n",
    "               y=df_day['wr1_p_ac'].tolist(), \n",
    "               name='WR1', line=dict(), mode='lines'),\n",
    "    go.Scatter(x=df_day.index.tolist(), \n",
    "               y=df_day['wr2_p_ac'].tolist(), \n",
    "               name='WR2', line=dict(), mode='lines'),\n",
    "    go.Scatter(x=df_day.index.tolist(), \n",
    "               y=df_day['wr3_p_ac'].tolist(), \n",
    "               name='WR3', line=dict(), mode='lines'),\n",
    "    go.Scatter(x=df_day.index.tolist(), \n",
    "               y=df_day['wr4_p_ac'].tolist(), \n",
    "               name='WR4', line=dict(), mode='lines'),\n",
    "    go.Scatter(x=df_day.index.tolist(), \n",
    "               y=df_day['wr5_p_ac'].tolist(), \n",
    "               name='WR5', line=dict(), mode='lines'),\n",
    "    go.Scatter(x=df_day.index.tolist(), \n",
    "               y=df_day['g_gen_cmp11'].tolist(), \n",
    "               name='CMP11', line=dict(), mode='lines'),\n",
    "]\n",
    "layout = go.Layout(\n",
    "    title=''.join(info_dict['Title']),\n",
    "    yaxis=dict(title=''.join(info_dict['Y-Axis'])),\n",
    "    xaxis=dict(title=''.join(info_dict['X-Axis']))\n",
    ")\n",
    "ifig = go.Figure(data=data, layout=layout)\n",
    "pltly.iplot(fig)"
   ]
  },
  {
   "cell_type": "code",
   "execution_count": null,
   "metadata": {},
   "outputs": [],
   "source": []
  },
  {
   "cell_type": "markdown",
   "metadata": {},
   "source": [
    "### One WR"
   ]
  },
  {
   "cell_type": "markdown",
   "metadata": {},
   "source": [
    "## Save results to files\n",
    "\n",
    "The results are saved to cooresponding files in a folder named **data**.<br>\n",
    "The **info_dict** is saved to a text file (txt).<br>\n",
    "The **data** is saved to a table (csv).<br>\n",
    "The **plot** is saved as an image (png).<br>\n",
    "The **interactive plot** is saved as a webpage (html). It will also open in a new tab of your browser."
   ]
  },
  {
   "cell_type": "code",
   "execution_count": null,
   "metadata": {},
   "outputs": [],
   "source": [
    "# Write facts to textfile\n",
    "txtname = ('data/{}.txt').format(*info_dict['Filename'])\n",
    "with open(txtname,'w') as tfile:\n",
    "    for i in info_dict.keys():\n",
    "        tfile.write(i + \": \" + ', '.join([str(x) for x in info_dict[i]]) + \"\\n\")\n",
    "tfile.close()\n",
    "print(\"Facts saved to file:\", txtname)\n",
    "\n",
    "# Save plot as file\n",
    "plotname = 'data/{}.png' .format(*info_dict['Filename'])\n",
    "mfig.savefig(plotname, bbox_inches='tight')\n",
    "print(\"Plot saved to file:\", plotname)\n",
    "\n",
    "# Save interactive plot\n",
    "htmlname = 'data/{}.html' .format(*info_dict['Filename'])\n",
    "pltly.plot(ifig, filename=htmlname)\n",
    "print(\"Interactive plot saved to file:\", htmlname)"
   ]
  },
  {
   "cell_type": "code",
   "execution_count": null,
   "metadata": {},
   "outputs": [],
   "source": []
  }
 ],
 "metadata": {
  "kernelspec": {
   "display_name": "Python 3",
   "language": "python",
   "name": "python3"
  },
  "language_info": {
   "codemirror_mode": {
    "name": "ipython",
    "version": 3
   },
   "file_extension": ".py",
   "mimetype": "text/x-python",
   "name": "python",
   "nbconvert_exporter": "python",
   "pygments_lexer": "ipython3",
   "version": "3.7.7"
  }
 },
 "nbformat": 4,
 "nbformat_minor": 2
}
